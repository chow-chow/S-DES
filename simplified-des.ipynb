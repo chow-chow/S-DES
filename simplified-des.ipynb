{
 "cells": [
  {
   "attachments": {},
   "cell_type": "markdown",
   "metadata": {},
   "source": [
    "# ***Simplified - DES***\n",
    "___\n",
    "Entender un algoritmo de cifrado puede ser una tarea compleja, especialmente cuando se trata de cifrados por bloques que manejan bloques de 64 bits y claves del mismo tamaño. Esto hace que realizar manualmente las operaciones necesarias para comprender el algoritmo resulte difícil y poco eficiente. Por esta razón, se han creado versiones simplificadas de algunos cifrados reales, como el Simplified Data Encryption Standard (S-DES), que es una versión reducida del DES.\n",
    "\n",
    "S-DES opera en bloques de 8 bits y usa una clave de 10 bits. Su diseño se basa en los mismos principios que el cifrado DES original pero con valores más pequeños y con únicamente 2 rondas de cifrado. Por lo tanto, es posible realizar un ejemplo de cifrado a mano que ayude a comprender mejor las operaciones empleadas en el cifrado DES auténtico.\n",
    "\n",
    "Es importante resaltar que S-DES es solo para fines educativos, no es un cifrado real que pueda ser implementado en algún sistema para proporcionar seguridad.\n",
    "\n",
    "## ***S-DES Algorithm:***\n",
    "___\n",
    "- Input (plaintext) block: 8-bits\n",
    "- Output (ciphertext) block: 8-bits\n",
    "- Key: 10-bits\n",
    "- Rounds: 2\n",
    "- 'Rounds Keys' generadas mediante permutaciones y desplazamientos a la izquierda.\n",
    "- Encryption: permutación inicial(IP), función de ronda (f_k), intercambiar mitades, función de ronda (f_k) con la segunda clave como entrada, inverso de la permutación inicial (IP-1).\n",
    "- Decryption: Igual que el cifrado, exceptuando que las 'round keys' se usan en orden inverso.\n",
    "\n",
    "<div align = \"center\">\n",
    "    <img src = \"images/des-alogrithm.png\" height=\"400px\">\n",
    "</div>\n",
    "<p align = \"center\">S-DES Algorithm</p>\n",
    "\n",
    "### ***Key Generation***\n",
    "___\n",
    "La clave de 10-bits es usada para generar 2 subclaves de 8-bits, K1 y K2, mediante una combinación de operaciones de permutación y desplazamiento.\n",
    "\n",
    "<div align = \"center\">\n",
    "    <img src = \"images/key-generation.png\" height=\"400px\">\n",
    "</div>\n",
    "<p align = \"center\">Key Generation Algorithm</p>\n",
    "\n",
    "1. Se aplica una permutación a la clave original de 10 bits utilizando la tabla P10.\n",
    "2. La clave permutada se divide en dos mitades de 5 bits cada una.\n",
    "3. Se desplaza cada mitad de la clave un bit hacia la izquierda.\n",
    "4. Se concatenan las dos mitades de la clave y se aplica una permutación utilizando la tabla P8 para obtener la primera clave de 8 bits, K1.\n",
    "5. Se desplazan las dos mitades de la clave resultantes del paso 3 dos posiciones hacia la izquierda.\n",
    "6. Se concatenan las dos mitades de la clave obtenidas en el paso anterior y se aplica una permutación utilizando la tabla P8 para obtener la segunda clave de 8 bits, K2."
   ]
  },
  {
   "cell_type": "code",
   "execution_count": 240,
   "metadata": {},
   "outputs": [],
   "source": [
    "# Permutation\n",
    "def permute(p, key):\n",
    "    \"\"\"\n",
    "    Permuta la clave dada usando la tabla de permutación proporcionada.\n",
    "    \"\"\"\n",
    "    return bytes([key[i-1] for i in p])"
   ]
  },
  {
   "cell_type": "code",
   "execution_count": 241,
   "metadata": {},
   "outputs": [],
   "source": [
    "# LFS\n",
    "def left_shift(key, shifts):\n",
    "    \"\"\"\n",
    "    Realiza un desplazamiento a la izquierda dado un número específico de desplazamientos.\n",
    "    \"\"\"\n",
    "    return key[shifts:] + key[:shifts]"
   ]
  },
  {
   "cell_type": "code",
   "execution_count": 244,
   "metadata": {},
   "outputs": [],
   "source": [
    "# Key Generation\n",
    "def key_generation(key):\n",
    "    \"\"\"\n",
    "    Genera las subclaves para S-DES usando la clave original de 10-bits.\n",
    "    \"\"\"\n",
    "    p10_table = [3, 5, 2, 7, 4, 10, 1, 9, 8, 6]\n",
    "    p8_table = [6, 3, 7, 4, 8, 5, 10, 9]\n",
    "\n",
    "    # P10 permutation\n",
    "    key = permute(p10_table, key)\n",
    "\n",
    "    # Split in two halves\n",
    "    left = key[:5]\n",
    "    right = key[5:]\n",
    "\n",
    "    # LFS-1 and LFS-2, combine and permute to generate subkeys\n",
    "    subkeys = []\n",
    "    for i in range(1, 3):\n",
    "        left = left_shift(left, i)\n",
    "        right = left_shift(right, i)\n",
    "\n",
    "        # Combine the halves and permutation\n",
    "        combined = left + right\n",
    "        subkey = permute(p8_table, combined)\n",
    "\n",
    "        subkeys.append(subkey)\n",
    "\n",
    "    return subkeys"
   ]
  },
  {
   "attachments": {},
   "cell_type": "markdown",
   "metadata": {},
   "source": [
    "### ***S-DES Encryption***\n",
    "___\n",
    "El cifrado en S-DES involucra cuatro funciones\n",
    "1. Permutación inicial(IP): Se permuta el bloque de texto plano de 8-bits utilizando la tabla IP. Posteriormente se divide en 2 mitades de 4-bits cada una.\n",
    "2. Función de ronda(f_k): Es la combinación de funciones de permutación y sustitución. La imagen a continuación representa una ronda de cifrado y descifrado, así como sus componentes. Esta ronda se repite dos veces en cada cifrado y descifrado.\n",
    "\n",
    "\n",
    "    <div align = \"center\">\n",
    "        <img src = \"images/fk-sdes.png\" height=\"400px\">\n",
    "    </div>\n",
    "    <p align = \"center\">S-DES Round Function Details.</p>\n",
    "\n",
    "    - Expansión de permutación(EP): Toma una entrada de 4-bits y la convierte en una salida de 8-bits multiplicandola por la tabla de permutación EP. El propósito es aumentar la cantidad de bits en cada mitad para que pueda ser combinado con una subclave de 8 bits mediante un XOR, dicha clave luego se divide a la mitad para entrar a las S-boxes.\n",
    "\n",
    "    - S-boxes(S0 y S1): Son tablas de búsqueda que se encargan de realizar la sustitución en S-DES. Cada S-box se define mediante una tabla 4x4, donde las filas representan los dos bits más significativos de la entrada y las columnas los dos bits menos significativos. La entrada se utiliza como coordenadas en la tabla para obtener el valor de salida.\n",
    "\n",
    "    - Permutación P4: El bloque de salida de las S-boxes se somete a una permutación P4 para producir un bloque de 4 bits de salida. El resultado de la permutación se combina con la mitad izquierda de la permutación inicial. \n",
    "\n",
    "    Al final se combinan ambas mitades, es decir, la mitad derecha de la permutación inicial y el resultado del XOR.\n",
    "    \n",
    "3. Intercambio de mitades(SW): La salida de la función de ronda se divide en dos mitades de 4-bits cada una, de tal forma que ahora la parte izquierda debe convertirse en la derecha y la parte derecha en la izquierda.\n",
    "\n",
    "4. Inverso de la permutación inicial(IP-1):  Se permuta el bloque de texto plano de 8-bits utilizando la tabla IP inversa. El resultado es el texto cifrado de 8 bits."
   ]
  },
  {
   "cell_type": "code",
   "execution_count": 245,
   "metadata": {},
   "outputs": [],
   "source": [
    "def xor(a, b):\n",
    "    \"\"\"\n",
    "    Regresa el resultado de operar dos secuencias de bytes bit a bit con XOR\n",
    "    \"\"\"\n",
    "    return bytes(x ^ y for x, y in zip(a,b))"
   ]
  },
  {
   "cell_type": "code",
   "execution_count": 247,
   "metadata": {},
   "outputs": [],
   "source": [
    "def s_box(input_byte, s_box):\n",
    "    \"\"\"Sustitución por S-Boxes S0 y S1\"\"\"\n",
    "    # S-Boxes\n",
    "    s_box_0 = [\n",
    "        [1, 0, 3, 2],\n",
    "        [3, 2, 1, 0],\n",
    "        [0, 2, 1, 3],\n",
    "        [3, 1, 3, 2]\n",
    "    ]\n",
    "\n",
    "    s_box_1 = [\n",
    "        [0, 1, 2, 3],\n",
    "        [2, 0, 1, 3],\n",
    "        [3, 0, 1, 0],\n",
    "        [2, 1, 0, 3]\n",
    "    ]\n",
    "\n",
    "    # Row: first and fourth bit\n",
    "    row = int((str(input_byte[0])+str(input_byte[3])).encode(),2)\n",
    "    # Column: second and third\n",
    "    col = int((str(input_byte[1])+str(input_byte[2])).encode(),2)\n",
    "\n",
    "    # S-Box selection\n",
    "    if s_box == 0:\n",
    "        new_value = s_box_0[row][col]\n",
    "    elif s_box == 1:\n",
    "        new_value = s_box_1[row][col]\n",
    "\n",
    "    # S-box result to binary, padding 0's if its necessary\n",
    "    output_bits = bin(new_value)[2:].zfill(2)\n",
    "\n",
    "    return output_bits"
   ]
  },
  {
   "cell_type": "code",
   "execution_count": 248,
   "metadata": {},
   "outputs": [
    {
     "name": "stdout",
     "output_type": "stream",
     "text": [
      "b'00000111'\n"
     ]
    }
   ],
   "source": [
    "# Round function\n",
    "def function_k(after_initperm, key):\n",
    "    \"\"\"\n",
    "    Cifra el texto plano usando el algoritmo S-DES\n",
    "    \"\"\"\n",
    "    # Permutation tables\n",
    "    ep_table = [4, 1, 2, 3, 2, 3, 4, 1]\n",
    "    p4_table = [2, 4, 3, 1]\n",
    "\n",
    "    left = after_initperm[:4]\n",
    "    right = after_initperm[4:]\n",
    "\n",
    "    # EP on the right half\n",
    "    temp = permute(ep_table, right)\n",
    "\n",
    "    # XOR with K1\n",
    "    temp = xor(temp, key)\n",
    "\n",
    "    # Divide the output of XOR into 2 halves of 4-bit each\n",
    "    xor_left = temp[:4]\n",
    "    xor_right = temp[4:]\n",
    "\n",
    "    # S-box output and combine\n",
    "    combine = s_box(xor_left, 0) + s_box(xor_right, 1)\n",
    "    combine = combine.encode()\n",
    "\n",
    "    # P4 permutation\n",
    "    combine = permute(p4_table, combine)\n",
    "\n",
    "    # XOR with the left half of the initial permutation\n",
    "    left = xor(left, combine)\n",
    "    left = (str(left[0])+str(left[1])+str(left[2])+str(left[3])).encode()\n",
    "\n",
    "    # Combine both halves, right and left of initial permutation\n",
    "    output = left + right\n",
    "    return output"
   ]
  },
  {
   "cell_type": "code",
   "execution_count": 249,
   "metadata": {},
   "outputs": [],
   "source": [
    "def swap(fk_output):\n",
    "    left = fk_output[4:]\n",
    "    right = fk_output[:4]\n",
    "    return left + right"
   ]
  },
  {
   "cell_type": "code",
   "execution_count": 260,
   "metadata": {},
   "outputs": [
    {
     "data": {
      "text/plain": [
       "b'01011010'"
      ]
     },
     "execution_count": 260,
     "metadata": {},
     "output_type": "execute_result"
    }
   ],
   "source": [
    "def encryption(plain_text, keys):\n",
    "     ip_table = [2, 6, 3, 1, 4, 8, 5, 7]\n",
    "     ip_inv = [4, 1, 3, 5, 7, 2, 8, 6]\n",
    "     # Initial Permutation (IP)\n",
    "     ip = permute(ip_table, plain_text)\n",
    "     # f_k1\n",
    "     round1 = function_k(ip, keys[0])\n",
    "     # SW\n",
    "     sw = swap(round1);\n",
    "     # f_k2\n",
    "     round2 = function_k(sw, keys[1])\n",
    "     # IP-1\n",
    "     ciphertext =  permute(ip_inv, round2)\n",
    "     return ciphertext\n",
    "\n",
    "#key = '1010000010'.encode()\n",
    "key = '0010010111'.encode()\n",
    "new_keys = key_generation(key)\n",
    "\n",
    "#plain_text = '10010111'.encode()\n",
    "plain_text = '00110110'.encode()\n",
    "\n",
    "encryption(plain_text, new_keys)"
   ]
  },
  {
   "attachments": {},
   "cell_type": "markdown",
   "metadata": {},
   "source": [
    "## ***S-DES Decryption****\n",
    "___\n",
    "El proceso se descifrado es prácticamente lo mismo que el cifrado, con la diferencia de que las \"Round Keys\" se usan en orden inverso.\n",
    "\n"
   ]
  },
  {
   "cell_type": "code",
   "execution_count": 262,
   "metadata": {},
   "outputs": [
    {
     "data": {
      "text/plain": [
       "b'01010101'"
      ]
     },
     "execution_count": 262,
     "metadata": {},
     "output_type": "execute_result"
    }
   ],
   "source": [
    "def decryption(cipher_text, keys):\n",
    "     ip_table = [2, 6, 3, 1, 4, 8, 5, 7]\n",
    "     ip_inv = [4, 1, 3, 5, 7, 2, 8, 6]\n",
    "     # Initial Permutation (IP)\n",
    "     ip = permute(ip_table, cipher_text)\n",
    "     # f_k2\n",
    "     round1 = function_k(ip, keys[1])\n",
    "     # SW\n",
    "     sw = swap(round1);\n",
    "     # f_k1\n",
    "     round2 = function_k(sw, keys[0])\n",
    "     # IP\n",
    "     plaintext =  permute(ip_inv, round2)\n",
    "     return plaintext\n",
    "\n",
    "#key = '1010000010'.encode()\n",
    "key = '0000011111'.encode()\n",
    "new_keys = key_generation(key)\n",
    "\n",
    "#plain_text = '10010111'.encode()\n",
    "cipher_text = '11000100'.encode()\n",
    "\n",
    "decryption(cipher_text, new_keys)"
   ]
  },
  {
   "attachments": {},
   "cell_type": "markdown",
   "metadata": {},
   "source": [
    "## ***Referencias***\n",
    "___\n",
    "Gordon, S. (2022). \"Cryptography Study Notes\". CQUniversity Australia, School of Engineering and Technology. Recuperado de: https://sandilands.info/crypto/\n",
    "\n",
    "Schaefer, E. F. (1996). \"A simplified data encryption standard algorithm\". Cryptologia, 20(1), 77-84.\n",
    "\n",
    "GeeksforGeeks. (s.f). \"Simplified Data Encryption Standard Key Generation\". Recuperado de: https://www.geeksforgeeks.org/simplified-data-encryption-standard-key-generation/\n",
    "\n",
    "GeeksforGeeks. (s.f). \"Simplified Data Encryption Standard | Set 2\". Recuperado de: https://www.geeksforgeeks.org/simplified-data-encryption-standard-set-2/?ref=lbp\n",
    "\n"
   ]
  }
 ],
 "metadata": {
  "kernelspec": {
   "display_name": "Python 3",
   "language": "python",
   "name": "python3"
  },
  "language_info": {
   "codemirror_mode": {
    "name": "ipython",
    "version": 3
   },
   "file_extension": ".py",
   "mimetype": "text/x-python",
   "name": "python",
   "nbconvert_exporter": "python",
   "pygments_lexer": "ipython3",
   "version": "3.11.2"
  },
  "orig_nbformat": 4
 },
 "nbformat": 4,
 "nbformat_minor": 2
}
